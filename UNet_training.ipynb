{
 "cells": [
  {
   "cell_type": "markdown",
   "metadata": {
    "scrolled": true
   },
   "source": [
    "# Reproduce Results in the Paper"
   ]
  },
  {
   "cell_type": "markdown",
   "metadata": {},
   "source": [
    "## Preprocessing"
   ]
  },
  {
   "cell_type": "code",
   "execution_count": null,
   "metadata": {},
   "outputs": [],
   "source": [
    "from img2nii import * # function generate nifti file from images, writen by us\n",
    "import matplotlib.pylab as plt\n",
    "#-----------------------"
   ]
  },
  {
   "cell_type": "markdown",
   "metadata": {},
   "source": [
    "### Original dataset"
   ]
  },
  {
   "cell_type": "code",
   "execution_count": null,
   "metadata": {
    "scrolled": true
   },
   "outputs": [],
   "source": [
    "# read images and labels\n",
    "# transfer png to nifti file; if not need to save, keep save_nii=False\n",
    "image_original = img2nii('/home/erjun/mygithub/unet-master/data/membrane/train/image/',save_nii=True,\n",
    "                 image_prefix='.',save_name = 'training_original',\n",
    "                save_path='/home/erjun/mygithub/unet-master/data/')\n",
    "label_original = img2nii('/home/erjun/mygithub/unet-master/data/membrane/train/label/',save_nii=True,\n",
    "                 image_prefix='.',save_name = 'label_original',\n",
    "                save_path='/home/erjun/mygithub/unet-master/data/')\n",
    "\n",
    "# show original image and segmentation\n",
    "print('Original image and segmentation')\n",
    "plt.figure()\n",
    "plt.subplot(121)\n",
    "plt.imshow(image_original[:,:,0])\n",
    "plt.xticks([])\n",
    "plt.yticks([])\n",
    "plt.xlabel('original image')\n",
    "plt.subplot(122)\n",
    "plt.imshow(label_original[:,:,0])\n",
    "plt.xticks([])\n",
    "plt.yticks([])\n",
    "plt.xlabel('image label')"
   ]
  },
  {
   "cell_type": "code",
   "execution_count": null,
   "metadata": {},
   "outputs": [],
   "source": []
  },
  {
   "cell_type": "markdown",
   "metadata": {},
   "source": [
    "### Data augmentation"
   ]
  },
  {
   "cell_type": "code",
   "execution_count": null,
   "metadata": {},
   "outputs": [],
   "source": [
    "# Function definition\n",
    "from __future__ import print_function\n",
    "from keras.preprocessing.image import ImageDataGenerator\n",
    "import numpy as np \n",
    "import os\n",
    "import glob\n",
    "import skimage.io as io\n",
    "import skimage.transform as trans\n",
    "def ImageGenerator(batch_size,train_path,image_folder,mask_folder,aug_dict,\n",
    "                   image_color_mode,mask_color_mode,\n",
    "                   image_save_prefix,mask_save_prefix,\n",
    "                    flag_multi_class,num_class,\n",
    "                   save_to_dir,target_size,seed):\n",
    "    '''\n",
    "    To generate image and mask\n",
    "    if you want to visualize the results of generator, set save_to_dir = \"your path\"\n",
    "    '''\n",
    "    image_datagen = ImageDataGenerator(**aug_dict)\n",
    "    mask_datagen = ImageDataGenerator(**aug_dict)\n",
    "    image_generator = image_datagen.flow_from_directory(\n",
    "        train_path,\n",
    "        classes = [image_folder],\n",
    "        class_mode = None,\n",
    "        color_mode = image_color_mode,\n",
    "        target_size = target_size,\n",
    "        batch_size = batch_size,\n",
    "        save_to_dir = save_to_dir,\n",
    "        save_prefix  = image_save_prefix,\n",
    "        shuffle=True,\n",
    "        seed = seed)\n",
    "    mask_generator = mask_datagen.flow_from_directory(\n",
    "        train_path,\n",
    "        classes = [mask_folder],\n",
    "        class_mode = None,\n",
    "        color_mode = mask_color_mode,\n",
    "        target_size = target_size,\n",
    "        batch_size = batch_size,\n",
    "        save_to_dir = save_to_dir,\n",
    "        save_prefix  = mask_save_prefix,\n",
    "        shuffle=True,\n",
    "        seed = seed)\n",
    "    train_generator = zip(image_generator, mask_generator)\n",
    "    for (img,mask) in train_generator:\n",
    "        yield (img,mask)"
   ]
  },
  {
   "cell_type": "code",
   "execution_count": null,
   "metadata": {},
   "outputs": [],
   "source": [
    "# Data augmentation\n",
    "os.chdir('/home/erjun/mygithub/unet-master/data/membrane/train/aug/')\n",
    "!rm *.png\n",
    "os.chdir('/home/erjun/mygithub/unet-master/')\n",
    "data_gen_args = dict(rotation_range=70,\n",
    "                    width_shift_range=0.1,\n",
    "                    height_shift_range=0.1,\n",
    "                    shear_range=0.1,\n",
    "                    zoom_range=0.1,\n",
    "                    horizontal_flip=True,\n",
    "                    fill_mode='nearest')\n",
    "Image_generated = ImageGenerator(batch_size=10,train_path='data/membrane/train',\n",
    "               image_folder='image',mask_folder='label',aug_dict=data_gen_args,\n",
    "               image_color_mode = \"grayscale\",mask_color_mode = \"grayscale\",\n",
    "               image_save_prefix  = \"image\",mask_save_prefix  = \"mask\",\n",
    "                     flag_multi_class = False,num_class = 2,\n",
    "               save_to_dir = \"data/membrane/train/aug\",target_size=(388,388),seed = 1)\n",
    "num_batch = 30\n",
    "for i,batch in enumerate(Image_generated):\n",
    "    if(i >= num_batch):\n",
    "        break"
   ]
  },
  {
   "cell_type": "code",
   "execution_count": null,
   "metadata": {},
   "outputs": [],
   "source": []
  },
  {
   "cell_type": "code",
   "execution_count": null,
   "metadata": {},
   "outputs": [],
   "source": [
    "from img2nii import *\n",
    "image_aug = img2nii('/home/erjun/mygithub/unet-master/data/membrane/train/aug/',save_nii=True,\n",
    "                 image_prefix='image',save_name = 'training_aug',\n",
    "                save_path='/home/erjun/mygithub/unet-master/data/')\n",
    "label_aug = img2nii('/home/erjun/mygithub/unet-master/data/membrane/train/aug/',save_nii=True,\n",
    "                 image_prefix='mask',save_name = 'label_aug',\n",
    "                save_path='/home/erjun/mygithub/unet-master/data/')\n",
    "\n",
    "# show augmentated image and segmentation\n",
    "print('augmentated image and segmentation')\n",
    "plt.figure()\n",
    "plt.subplot(121)\n",
    "plt.imshow(image_aug[:,:,0])\n",
    "plt.xticks([])\n",
    "plt.yticks([])\n",
    "plt.xlabel('original image')\n",
    "plt.subplot(122)\n",
    "plt.imshow(label_aug[:,:,0])\n",
    "plt.xticks([])\n",
    "plt.yticks([])\n",
    "plt.xlabel('image label')"
   ]
  },
  {
   "cell_type": "markdown",
   "metadata": {},
   "source": [
    "### Data nomalization"
   ]
  },
  {
   "cell_type": "code",
   "execution_count": null,
   "metadata": {},
   "outputs": [],
   "source": [
    "# Function definition\n",
    "import cv2\n",
    "import os\n",
    "from dipy.io.image import load_nifti, save_nifti\n",
    "import nibabel as nib\n",
    "import numpy as np\n",
    "def imgNormlize(folder,image_prefix,mask,save_nii,save_name,save_path):\n",
    "    '''\n",
    "    normalize images\n",
    "    '''\n",
    "    images = []\n",
    "    for filename in np.sort(os.listdir(folder)):\n",
    "        if image_prefix in filename:\n",
    "            img = cv2.imread(os.path.join(folder,filename),cv2.IMREAD_GRAYSCALE)\n",
    "            if np.max(img) > 1:\n",
    "                if (img is not None) and (mask==False):\n",
    "                    img = img/255.0\n",
    "                elif (img is not None) and (mask==True):\n",
    "                    img = img /255\n",
    "                    img[img > 0.5] = 1\n",
    "                    img[img <= 0.5] = 0\n",
    "            images.append(img)\n",
    "    images_xyz = np.array(images).swapaxes(0,1).swapaxes(1,2)\n",
    "    img = nib.Nifti1Image(images_xyz, np.eye(4))\n",
    "    if save_nii == True:\n",
    "        img.header['xyzt_units'] = 11\n",
    "        img.header['dim'][0] = 3#[3,128,128,14,1,1,0,0]\n",
    "        img.header['dim'][4] = 1#[3,128,128,14,1,1,0,0]\n",
    "        img.header['pixdim'] = [1,0.004,0.004,0.050,1,1,1,1]\n",
    "        save_nifti(os.path.join(save_path,save_name+'.nii'), images_xyz.astype(np.float32), \n",
    "                   affine=np.eye(4),hdr=img.header)\n",
    "    return images_xyz"
   ]
  },
  {
   "cell_type": "code",
   "execution_count": null,
   "metadata": {},
   "outputs": [],
   "source": [
    "# normalized images\n",
    "image_norm = imgNormlize(folder='/home/erjun/mygithub/unet-master/data/membrane/train/aug/',\n",
    "                     image_prefix='image',mask=False,\n",
    "                     save_name= 'test',save_nii=True,\n",
    "            save_path='/home/erjun/mygithub/unet-master/data/')\n",
    "# normalized mask\n",
    "label_norm = imgNormlize(folder='/home/erjun/mygithub/unet-master/data/membrane/train/aug/',\n",
    "                     image_prefix='mask',mask=True,\n",
    "                     save_name= 'test',save_nii=True,\n",
    "            save_path='/home/erjun/mygithub/unet-master/data/')\n",
    "# show normalized image and segmentation\n",
    "print('Normalized image and segmentation')\n",
    "plt.figure()\n",
    "plt.subplot(121)\n",
    "plt.imshow(image_norm[:,:,0])\n",
    "plt.xticks([])\n",
    "plt.yticks([])\n",
    "plt.xlabel('image')\n",
    "plt.subplot(122)\n",
    "plt.imshow(label_norm[:,:,0])\n",
    "plt.xticks([])\n",
    "plt.yticks([])\n",
    "plt.xlabel('image label')"
   ]
  },
  {
   "cell_type": "markdown",
   "metadata": {},
   "source": [
    "### Image padding"
   ]
  },
  {
   "cell_type": "code",
   "execution_count": null,
   "metadata": {},
   "outputs": [],
   "source": [
    "# Function definition\n",
    "import cv2\n",
    "import os\n",
    "from dipy.io.image import load_nifti, save_nifti\n",
    "import nibabel as nib\n",
    "import numpy as np\n",
    "def imgPadding(folder,mode,size,save_path):\n",
    "    '''\n",
    "    padding images\n",
    "    '''\n",
    "    for filename in np.sort(os.listdir(folder)):\n",
    "        if filename[-4:] == '.hdr':\n",
    "            img = cv2.imread(os.path.join(folder,filename),cv2.IMREAD_ANYDEPTH)[:,:,0]\n",
    "        else:\n",
    "            img = cv2.imread(os.path.join(folder,filename),cv2.IMREAD_GRAYSCALE)\n",
    "        px = int((size[0]-img.shape[0])/2)\n",
    "        py = int((size[1]-img.shape[1])/2)\n",
    "        img_padded = np.pad(img, (px,py), mode)\n",
    "        cv2.imwrite(os.path.join(save_path,filename), img_padded)"
   ]
  },
  {
   "cell_type": "code",
   "execution_count": null,
   "metadata": {},
   "outputs": [],
   "source": [
    "# Image padding\n",
    "os.chdir('/home/erjun/mygithub/unet-master/data/membrane/train/aug_mirror/')\n",
    "!rm *.png\n",
    "imgPadding(folder='/home/erjun/mygithub/unet-master/data/membrane/train/aug/',\n",
    "            mode='symmetric',size=[572,572],\n",
    "            save_path='/home/erjun/mygithub/unet-master/data/membrane/train/aug_mirror/')\n",
    "\n",
    "image_padded = img2nii('/home/erjun/mygithub/unet-master/data/membrane/train/aug_mirror/',save_nii=True,\n",
    "                 image_prefix='image',save_name = 'training_padded',\n",
    "                save_path='/home/erjun/mygithub/unet-master/data/')\n",
    "label_padded = img2nii('/home/erjun/mygithub/unet-master/data/membrane/train/aug_mirror/',save_nii=True,\n",
    "                 image_prefix='mask',save_name = 'label_padded',\n",
    "                save_path='/home/erjun/mygithub/unet-master/data/')\n",
    "# show original image and segmentation\n",
    "print('padded image and segmentation')\n",
    "plt.figure()\n",
    "plt.subplot(121)\n",
    "plt.imshow(image_padded[:,:,0])\n",
    "plt.xticks([])\n",
    "plt.yticks([])\n",
    "plt.xlabel('image')\n",
    "plt.subplot(122)\n",
    "plt.imshow(label_padded[:,:,0])\n",
    "plt.xticks([])\n",
    "plt.yticks([])\n",
    "plt.xlabel('image label')"
   ]
  },
  {
   "cell_type": "markdown",
   "metadata": {},
   "source": [
    "## UNet model in the paper"
   ]
  },
  {
   "cell_type": "markdown",
   "metadata": {},
   "source": [
    "### UNet model constructions"
   ]
  },
  {
   "cell_type": "code",
   "execution_count": null,
   "metadata": {},
   "outputs": [],
   "source": [
    "import numpy as np \n",
    "import os\n",
    "import skimage.io as io\n",
    "import skimage.transform as trans\n",
    "import numpy as np\n",
    "from keras.models import *\n",
    "from keras.layers import *\n",
    "from keras.optimizers import *\n",
    "from keras.callbacks import ModelCheckpoint, LearningRateScheduler\n",
    "from keras import backend as keras\n",
    "import tensorflow as tf"
   ]
  },
  {
   "cell_type": "code",
   "execution_count": null,
   "metadata": {},
   "outputs": [],
   "source": [
    "def conv2ds_pool(inputs,channels,kernel,strides,activation,padding,crop_size):\n",
    "    '''\n",
    "    example: conv2ds(inputs,channels,kernel=3,strides=1,activation='relu',padding='same')\n",
    "    '''\n",
    "    conv1 = Conv2D(filters=channels, kernel_size=kernel, strides=strides,activation = activation, \n",
    "                   padding = padding, kernel_initializer = 'he_normal')(inputs)\n",
    "    conv1 = Conv2D(filters=channels, kernel_size=kernel, strides=strides,activation = activation, \n",
    "                   padding = padding, kernel_initializer = 'he_normal')(conv1)\n",
    "    copy_crop1 = CenterCrop(crop_size[0], crop_size[1])(conv1)\n",
    "    pool1 = MaxPooling2D(pool_size=(2, 2))(conv1)\n",
    "    return pool1,copy_crop1,conv1\n",
    "\n",
    "def deconv2ds_pool(copy_crop,conv2d,channels,kernel,strides,activation,padding):\n",
    "    '''\n",
    "    example: conv2ds(inputs,channels,kernel=3,strides=1,activation='relu',padding='same')\n",
    "    '''\n",
    "    drop_prob = 0.5\n",
    "    conv0_up = Conv2DTranspose(filters=int(channels*(1-drop_prob)), kernel_size=2, strides=2,\n",
    "                   activation = activation, output_padding=None,\n",
    "                   padding = 'valid')(conv2d)\n",
    "    concate1 = concatenate([copy_crop,conv0_up], axis = 3)\n",
    "    \n",
    "    drop1 = concate1#Dropout(drop_prob)(concate1)\n",
    "    conv1 = Conv2D(filters=int(channels*(1-drop_prob)), kernel_size=kernel, strides=strides,\n",
    "                   activation = activation, \n",
    "                   padding = padding, kernel_initializer = 'he_normal')(drop1)\n",
    "    conv1 = Conv2D(filters=int(channels*(1-drop_prob)), kernel_size=kernel, strides=strides,\n",
    "                   activation = activation, \n",
    "                   padding = padding, kernel_initializer = 'he_normal')(conv1)\n",
    "    pool1 = conv1#MaxPooling2D(pool_size=(2, 2))(conv1)\n",
    "    return pool1"
   ]
  },
  {
   "cell_type": "code",
   "execution_count": null,
   "metadata": {},
   "outputs": [],
   "source": [
    "def UNet2d(pretrained_weights=None,input_size=(388,388,1)):\n",
    "    '''\n",
    "    example: UNet2d(pretrained_weights = None,input_size = (388,388,1))\n",
    "    '''\n",
    "    inputs = Input(input_size)\n",
    "    img_padded = tf.pad(tensor=inputs, paddings=[[0, 0],[92,92],[92,92],[0,0]],\n",
    "                        mode=\"SYMMETRIC\",name='Padding')\n",
    "    #-----------------------------------------------------------\n",
    "    conv2ds_l1,copy_crop_l1,conv_l1 = conv2ds_pool(inputs=img_padded ,channels=64,kernel=3,strides=1,activation='relu',\n",
    "                                           padding='valid',crop_size=[392,392])\n",
    "    conv2ds_l2,copy_crop_l2,conv_l2 = conv2ds_pool(inputs=conv2ds_l1,channels=128,kernel=3,strides=1,activation='relu',\n",
    "                                           padding='valid',crop_size=[200,200])\n",
    "    conv2ds_l3,copy_crop_l3,conv_l3 = conv2ds_pool(inputs=conv2ds_l2,channels=256,kernel=3,strides=1,activation='relu',\n",
    "                                           padding='valid',crop_size=[104,104])\n",
    "    conv2ds_l4,copy_crop_l4,conv_l4 = conv2ds_pool(inputs=conv2ds_l3,channels=512,kernel=3,strides=1,activation='relu',\n",
    "                                           padding='valid',crop_size=[56,56])\n",
    "    conv2ds_l5,copy_crop_l5,conv_l5 = conv2ds_pool(inputs=conv2ds_l4,channels=1024,kernel=3,strides=1,activation='relu',\n",
    "                                           padding='valid',crop_size=[28,28])\n",
    "    #------------------------------------------------------------\n",
    "    deconv2ds_l6 = deconv2ds_pool(copy_crop=copy_crop_l4,conv2d=conv_l5,channels=1024,\n",
    "                                  kernel=3,strides=1,activation='relu',padding='valid')\n",
    "    deconv2ds_l7 = deconv2ds_pool(copy_crop=copy_crop_l3,conv2d=deconv2ds_l6,channels=512,\n",
    "                                  kernel=3,strides=1,activation='relu',padding='valid')\n",
    "    deconv2ds_l8 = deconv2ds_pool(copy_crop=copy_crop_l2,conv2d=deconv2ds_l7,channels=256,\n",
    "                                  kernel=3,strides=1,activation='relu',padding='valid')\n",
    "    deconv2ds_l9 = deconv2ds_pool(copy_crop=copy_crop_l1,conv2d=deconv2ds_l8,channels=128,\n",
    "                                  kernel=3,strides=1,activation='relu',padding='valid')\n",
    "    conv10 = Conv2D(filters=1, kernel_size=1, strides=1,activation = 'sigmoid', \n",
    "                       padding = 'valid')(deconv2ds_l9)\n",
    "    #------------------------------------------------------------\n",
    "    model = Model(inputs = inputs, outputs = conv10,name='UNet')\n",
    "    model.compile(optimizer = tf.keras.optimizers.Adam(learning_rate = 1e-3), loss = 'binary_crossentropy',\n",
    "                  metrics = ['accuracy'])\n",
    "    model.summary()\n",
    "    if(pretrained_weights):\n",
    "    \tmodel.load_weights(pretrained_weights)\n",
    "    return model"
   ]
  },
  {
   "cell_type": "markdown",
   "metadata": {},
   "source": [
    "## UNet training and prediction"
   ]
  },
  {
   "cell_type": "code",
   "execution_count": null,
   "metadata": {
    "scrolled": false
   },
   "outputs": [],
   "source": [
    "model = UNet2d()\n",
    "model_checkpoint = ModelCheckpoint('unet_membrane.hdf5', monitor='loss',verbose=1,\n",
    "                                   save_best_only=True)\n",
    "# imgs_train,imgs_mask_train = geneTrainNpy(\"data/membrane/train/aug/\",\"data/membrane/train/aug/\")\n",
    "imgs_train = image_norm.swapaxes(1,2).swapaxes(0,1)\n",
    "imgs_mask = label_norm.swapaxes(1,2).swapaxes(0,1)\n",
    "model.fit(imgs_train, imgs_mask, batch_size=10, epochs=15, verbose=1,validation_split=0.2,\n",
    "          shuffle=True, callbacks=[model_checkpoint])"
   ]
  },
  {
   "cell_type": "markdown",
   "metadata": {},
   "source": [
    "## Prediction"
   ]
  },
  {
   "cell_type": "markdown",
   "metadata": {},
   "source": [
    "# Exp. 1: change mirror-tile technique to zero padding"
   ]
  },
  {
   "cell_type": "markdown",
   "metadata": {},
   "source": [
    "# Exp. 2: Apply UNet model on human brain segmentation"
   ]
  },
  {
   "cell_type": "code",
   "execution_count": null,
   "metadata": {},
   "outputs": [],
   "source": []
  },
  {
   "cell_type": "code",
   "execution_count": null,
   "metadata": {},
   "outputs": [],
   "source": []
  },
  {
   "cell_type": "code",
   "execution_count": null,
   "metadata": {},
   "outputs": [],
   "source": []
  }
 ],
 "metadata": {
  "kernelspec": {
   "display_name": "Python 3 (ipykernel)",
   "language": "python",
   "name": "python3"
  },
  "language_info": {
   "codemirror_mode": {
    "name": "ipython",
    "version": 3
   },
   "file_extension": ".py",
   "mimetype": "text/x-python",
   "name": "python",
   "nbconvert_exporter": "python",
   "pygments_lexer": "ipython3",
   "version": "3.8.6"
  },
  "latex_envs": {
   "LaTeX_envs_menu_present": true,
   "autoclose": false,
   "autocomplete": true,
   "bibliofile": "biblio.bib",
   "cite_by": "apalike",
   "current_citInitial": 1,
   "eqLabelWithNumbers": true,
   "eqNumInitial": 1,
   "hotkeys": {
    "equation": "Ctrl-E",
    "itemize": "Ctrl-I"
   },
   "labels_anchors": false,
   "latex_user_defs": false,
   "report_style_numbering": false,
   "user_envs_cfg": false
  },
  "toc": {
   "base_numbering": 1,
   "nav_menu": {},
   "number_sections": true,
   "sideBar": true,
   "skip_h1_title": false,
   "title_cell": "Table of Contents",
   "title_sidebar": "Contents",
   "toc_cell": false,
   "toc_position": {},
   "toc_section_display": true,
   "toc_window_display": false
  }
 },
 "nbformat": 4,
 "nbformat_minor": 4
}
